{
 "cells": [
  {
   "cell_type": "code",
   "execution_count": 1,
   "id": "4e98091f",
   "metadata": {},
   "outputs": [],
   "source": [
    "import pandas as pd\n",
    "from datetime import datetime\n",
    "import requests\n",
    "import json"
   ]
  },
  {
   "cell_type": "code",
   "execution_count": 2,
   "id": "d2ab3e83",
   "metadata": {},
   "outputs": [],
   "source": [
    "############################################# BURAYI DEGISTIR ##############################################\n",
    "\"\"\"\n",
    "İstenilen periyot ile historical veri elde etmek için kullanılıyor\n",
    "1 saniyede veri alabiliyor\n",
    "Elde edilen veri kaydediliyor\n",
    "\n",
    "Veriler data_historical klasörü içerisine o anın tarih ve saat ile kaydediliyor\n",
    "\"\"\"\n",
    "# Binance API anahtarlarınızı buraya girin\n",
    "api_key = \"\"\n",
    "api_secret = \"\"\n",
    "\n",
    "# API isteği için gerekli parametreleri ayarlayın\n",
    "symbol = \"EPXUSDT\" # BTC / USDT çifti\n",
    "interval = \"1s\" # 1 saniyelik veri aralığı (1m)-(1s)\n",
    "freq = \"1S\" # 1 saniyelik veri aralığı (1min)-(1S) (https://pandas.pydata.org/docs/user_guide/timeseries.html#timeseries-offset-aliases)\n",
    "initial_start_date_string = '2023-06-06 13:40:00.000000'\n",
    "initial_end_date_string = '2023-06-06 14:00:00.000000'\n",
    "#############################################################################################################"
   ]
  },
  {
   "cell_type": "code",
   "execution_count": 3,
   "id": "76537c2c",
   "metadata": {},
   "outputs": [],
   "source": [
    "limit = 1000 # API isteği başına döndürülecek maksimum veri sayısı\n",
    "date_range = pd.date_range(start = pd.to_datetime(initial_start_date_string), \n",
    "                           end = pd.to_datetime(initial_end_date_string), \n",
    "                           freq = freq)"
   ]
  },
  {
   "cell_type": "code",
   "execution_count": 4,
   "id": "808e4016",
   "metadata": {},
   "outputs": [
    {
     "name": "stdout",
     "output_type": "stream",
     "text": [
      "\n",
      "startTime: 2023-06-06 13:40:00 - timestamp: 1686048000000\n",
      "endTime: 2023-06-06 13:56:39 - timestamp: 1686048999000\n",
      "{'X-MBX-APIKEY': ''}\n",
      "\n",
      "startTime: 2023-06-06 13:56:40 - timestamp: 1686049000000\n",
      "endTime: 2023-06-06 14:00:00 - timestamp: 1686049200000\n",
      "{'X-MBX-APIKEY': ''}\n"
     ]
    }
   ],
   "source": [
    "list_data_json = []\n",
    "for i in range(len(date_range) // limit + 1):   \n",
    "    if i == len(date_range) // limit:\n",
    "        start_date_string = date_range[i*limit]\n",
    "        end_date_string = date_range[-1]\n",
    "    else:\n",
    "        start_date_string = date_range[i*limit]\n",
    "        end_date_string = date_range[i*limit + limit - 1]\n",
    "    print()\n",
    "\n",
    "    dt_s = datetime.strptime(str(start_date_string), '%Y-%m-%d %H:%M:%S')\n",
    "    startTime = int(dt_s.timestamp()*1000)\n",
    "    print(\"startTime: {} - timestamp: {}\".format(dt_s, startTime))\n",
    "\n",
    "    dt_e = datetime.strptime(str(end_date_string), '%Y-%m-%d %H:%M:%S')\n",
    "    endTime = int(dt_e.timestamp()*1000)\n",
    "    print(\"endTime: {} - timestamp: {}\".format(dt_e, endTime))\n",
    "\n",
    "    # API isteği yapın\n",
    "    url = f\"https://api.binance.com/api/v3/klines?symbol={symbol}&interval={interval}&limit={limit}&startTime={startTime}&endTime={endTime}\"\n",
    "    headers = {\"X-MBX-APIKEY\": api_key}\n",
    "    print(headers)\n",
    "    response = requests.get(url, headers=headers)\n",
    "\n",
    "    # API yanıtını JSON formatına çevirin\n",
    "    data_json = json.loads(response.text)\n",
    "    for j in data_json:\n",
    "        list_data_json.append(j)"
   ]
  },
  {
   "cell_type": "code",
   "execution_count": 5,
   "id": "4119b804",
   "metadata": {},
   "outputs": [],
   "source": [
    "data = pd.DataFrame(list_data_json, columns=['timestamp', 'open', 'high', 'low', 'close', 'volume', 'close_time',\n",
    "                                             'quote_asset_volume', 'number_of_trades', 'taker_buy_base_asset_volume',\n",
    "                                             'taker_buy_quote_asset_volume', 'ignore'])"
   ]
  },
  {
   "cell_type": "code",
   "execution_count": 6,
   "id": "478d94e6",
   "metadata": {},
   "outputs": [],
   "source": [
    "# check whether desired time range is achieved or not\n",
    "data[\"event_time\"] = [datetime.fromtimestamp(i/1000) for i in data.timestamp]\n",
    "data[['open', 'high', 'low', 'close', 'volume']] = data[['open', 'high', 'low', 'close', 'volume']].astype(float)\n",
    "\n",
    "data.to_pickle(\"data_historical/\" + datetime.now().strftime(\"%Y%m%d_%H%M%S\") + \"_\"+symbol+ \"_\" + interval)"
   ]
  },
  {
   "cell_type": "code",
   "execution_count": null,
   "id": "f1029308",
   "metadata": {},
   "outputs": [],
   "source": []
  }
 ],
 "metadata": {
  "kernelspec": {
   "display_name": "Python 3 (ipykernel)",
   "language": "python",
   "name": "python3"
  },
  "language_info": {
   "codemirror_mode": {
    "name": "ipython",
    "version": 3
   },
   "file_extension": ".py",
   "mimetype": "text/x-python",
   "name": "python",
   "nbconvert_exporter": "python",
   "pygments_lexer": "ipython3",
   "version": "3.10.9"
  }
 },
 "nbformat": 4,
 "nbformat_minor": 5
}
